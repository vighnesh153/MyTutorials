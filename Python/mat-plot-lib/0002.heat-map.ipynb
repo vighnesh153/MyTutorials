{
 "cells": [
  {
   "cell_type": "markdown",
   "metadata": {},
   "source": [
    "# Self Driving Car 2D World\n",
    "\n",
    "Here are your tasks for this set of exercises:\n",
    "* write a function that initializes probabilities across the grid\n",
    "* write a function that outputs the probability that the robot is at a specific point on the grid\n",
    "* write a function to visualize the probabilities of the grid (this function is provided for you)\n",
    "* write a function to update probabilities on the grid\n",
    "\n",
    "This set of exercises are the same as the 1D world. But now you'll need to use nested for loops and nested lists, which can be tricky."
   ]
  },
  {
   "cell_type": "markdown",
   "metadata": {},
   "source": [
    "# Exercise 1\n",
    "\n",
    "Write a function that initializes probabilities across the 2D grid. Remember that initially, the probabilities are equal across the entire grid. And all of the probabilities need to add up to one.\n",
    "\n",
    "So if your grid was 5 by 4, you'd have 20 spaces; the initial probability associated with each space would be 1/20.\n",
    "\n",
    "Here are the inputs and outputs of the function:\n",
    "\n",
    "**Inputs**\n",
    "* the number of rows in the grid\n",
    "* the number of columns in the grid\n",
    "\n",
    "**Outputs**\n",
    "* a nested list containing the probabilities for each grid cell"
   ]
  },
  {
   "cell_type": "code",
   "execution_count": 1,
   "metadata": {},
   "outputs": [],
   "source": [
    "def initial_grid(rows, columns):\n",
    "\n",
    "    # TODO: initialize an empty list in a variable called grid\n",
    "    grid = []\n",
    "    \n",
    "    # TODO: initialize an empty row in a variable called row\n",
    "    row = []\n",
    "\n",
    "    # TODO: calculate the initial probability\n",
    "    probability = 1 / (rows * columns)\n",
    "    \n",
    "    # TODO: write a nested for loop that appends values to the grid variable\n",
    "    # HINT: You first need to fill in a row with values and then append the row to the grid.\n",
    "    #        Then you'll need to set the row variable to an empty list.\n",
    "    #        The logic of all this can be tough to think through. \n",
    "    #        If you get stuck, see the demonstrations in the previous part of the lesson\n",
    "        \n",
    "    return [[probability for _ in range(columns)] for __ in range(rows)]"
   ]
  },
  {
   "cell_type": "markdown",
   "metadata": {},
   "source": [
    "Run the code cell below to test your results"
   ]
  },
  {
   "cell_type": "code",
   "execution_count": 2,
   "metadata": {},
   "outputs": [
    {
     "name": "stdout",
     "output_type": "stream",
     "text": [
      "Hooray!\n"
     ]
    }
   ],
   "source": [
    "assert initial_grid(5, 4) == [[0.05, 0.05, 0.05, 0.05],\n",
    "                              [0.05, 0.05, 0.05, 0.05],\n",
    "                              [0.05, 0.05, 0.05, 0.05],\n",
    "                              [0.05, 0.05, 0.05, 0.05],\n",
    "                              [0.05, 0.05, 0.05, 0.05]]\n",
    "\n",
    "assert initial_grid(2, 5) == [[0.1, 0.1, 0.1, 0.1, 0.1], \n",
    "                              [0.1, 0.1, 0.1, 0.1, 0.1]]\n",
    "\n",
    "assert initial_grid(2, 2) == [[0.25, 0.25], \n",
    "                              [0.25, 0.25]]\n",
    "\n",
    "print('Hooray!')"
   ]
  },
  {
   "cell_type": "markdown",
   "metadata": {},
   "source": [
    "# Exercise 2\n",
    "\n",
    "Write a function that outputs the probability that the robot is at a specific point on the grid.\n",
    "\n",
    "Here are the function inputs and outputs:\n",
    "\n",
    "**Inputs**\n",
    "\n",
    "* a 2D grid given as a nested list\n",
    "* a row number\n",
    "* a column number\n",
    "\n",
    "**Outputs**\n",
    "* the probability at the input row, column\n",
    "\n",
    "**HINT**\n",
    "\n",
    "Remember that the first grid cell in row one, column one is accessed with `[0][0]` not `[1][1]`."
   ]
  },
  {
   "cell_type": "code",
   "execution_count": 3,
   "metadata": {},
   "outputs": [],
   "source": [
    "def probability(grid, row, column):\n",
    "    \n",
    "    # TODO: return the probability that the robot as at the space representing by the row and column values.\n",
    "    \n",
    "    return grid[row][column]"
   ]
  },
  {
   "cell_type": "code",
   "execution_count": 4,
   "metadata": {},
   "outputs": [
    {
     "name": "stdout",
     "output_type": "stream",
     "text": [
      "You passed all the assertion tests.\n"
     ]
    }
   ],
   "source": [
    "assert probability([[.25, .1], \n",
    "                    [.45, .2]], \n",
    "                   1, 1) == 0.2\n",
    "\n",
    "assert probability([[.05, .1, .1],\n",
    "                    [.04, .3, .02],\n",
    "                    [.01, .02, .02],\n",
    "                    [.005, .012, .06],\n",
    "                    [.09, .07, .103]], 3, 2) == 0.06\n",
    "\n",
    "assert probability([[.05, .1, .1],\n",
    "                    [.04, .3, .02],\n",
    "                    [.01, .023, .017],\n",
    "                    [.005, .012, .06],\n",
    "                    [.09, .07, .103]], 2, 2) == .017\n",
    "\n",
    "print('You passed all the assertion tests.')"
   ]
  },
  {
   "cell_type": "markdown",
   "metadata": {},
   "source": [
    "# DEMO\n",
    "\n",
    "Run the code cell below to visualize the probabilities of the grid. This function is provided for you. We are providing this code for you since we haven't talked about how to graphically represent probability distributions in 2D.\n",
    "\n",
    "Run the code cells below to see the output. The code shows a heat map. Whereas a bar chart represented probability on the y-axis, a heat map can represent probability with color."
   ]
  },
  {
   "cell_type": "code",
   "execution_count": 5,
   "metadata": {},
   "outputs": [],
   "source": [
    "import matplotlib.pyplot as plt\n",
    "%matplotlib inline\n",
    "\n",
    "def graph_grid(grid):\n",
    "    plt.imshow(grid, cmap='Greys', clim=(0,.1))\n",
    "    plt.title('Heat Map of Grid Probabilities')\n",
    "    plt.xlabel('grid x axis')\n",
    "    plt.ylabel('grid y axis')\n",
    "    plt.legend()\n",
    "    plt.show()"
   ]
  },
  {
   "cell_type": "code",
   "execution_count": 6,
   "metadata": {},
   "outputs": [
    {
     "data": {
      "image/png": "[encoded data removed]",
      "text/plain": [
       "<matplotlib.figure.Figure at 0x7f4f282797b8>"
      ]
     },
     "metadata": {
      "needs_background": "light"
     },
     "output_type": "display_data"
    }
   ],
   "source": [
    "grid = [[.05, .1, .1],\n",
    "        [.04, .3, .02],\n",
    "        [.01, .023, .017],\n",
    "        [.005, .012, .06],\n",
    "        [.09, .07, .103]]\n",
    "\n",
    "graph_grid(grid)"
   ]
  }
 ],
 "metadata": {
  "kernelspec": {
   "display_name": "Python 3",
   "language": "python",
   "name": "python3"
  },
  "language_info": {
   "codemirror_mode": {
    "name": "ipython",
    "version": 3
   },
   "file_extension": ".py",
   "mimetype": "text/x-python",
   "name": "python",
   "nbconvert_exporter": "python",
   "pygments_lexer": "ipython3",
   "version": "3.6.3"
  }
 },
 "nbformat": 4,
 "nbformat_minor": 2
}
