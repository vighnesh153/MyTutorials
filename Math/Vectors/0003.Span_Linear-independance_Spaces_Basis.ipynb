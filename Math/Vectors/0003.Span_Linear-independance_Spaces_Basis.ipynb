{
 "cells": [
  {
   "cell_type": "markdown",
   "metadata": {},
   "source": [
    "## Span\n",
    "\n",
    "Span of a set of vectors, $A$ is defined as the set of all the vectors, $B$ which can be obtained by a linear combination of all vectors in $A$. More formally,\n",
    "\n",
    "If"
   ]
  },
  {
   "cell_type": "markdown",
   "metadata": {},
   "source": [
    "$$A =\\{ \\overrightarrow { V_{ 1 } } ,\\overrightarrow { V_{ 2 } } ,\\overrightarrow { V_{ 3 } } ,.....,\\overrightarrow { V_{ n } } )$$"
   ]
  },
  {
   "cell_type": "markdown",
   "metadata": {},
   "source": [
    "then"
   ]
  },
  {
   "cell_type": "markdown",
   "metadata": {},
   "source": [
    "$$B =\\{ \\overrightarrow { X_{ 1 } } ,\\overrightarrow { X_{ 2 } } ,\\overrightarrow { X_{ 3 } } ,.....,\\overrightarrow { X_{ n } } )$$"
   ]
  },
  {
   "cell_type": "markdown",
   "metadata": {},
   "source": [
    "is a span of $A$ if and only if"
   ]
  },
  {
   "cell_type": "markdown",
   "metadata": {},
   "source": [
    "$${ c }_{ 1 }\\overrightarrow { V_{ 1 } } +{ c }_{ 2 }\\overrightarrow { V_{ 2 } } +{ c }_{ 3 }\\overrightarrow { V_{ 3 } } +.....+{ c }_{ n }\\overrightarrow { V_{ n } } =\\overrightarrow { X_{ i } } \\: |\\: { c }_{ i }\\: \\in \\: \\Re $$"
   ]
  },
  {
   "cell_type": "markdown",
   "metadata": {},
   "source": [
    "#### Example\n",
    "Any 2 non-colinear vectors in 2-Dimensions, can span the entire 2-D space."
   ]
  },
  {
   "cell_type": "markdown",
   "metadata": {},
   "source": [
    "\n",
    "## Linear Independance"
   ]
  },
  {
   "cell_type": "markdown",
   "metadata": {},
   "source": [
    "From the above definition, if any vector from $A$ can not be written as a linear combination of other vectors in $A$, then the set $A$ is said to be linear independant."
   ]
  },
  {
   "cell_type": "markdown",
   "metadata": {},
   "source": [
    "## Subspace"
   ]
  },
  {
   "cell_type": "markdown",
   "metadata": {},
   "source": [
    "A set of vectors is called a subspace if and only if, \n",
    "* It has the zero vector.\n",
    "* Vector, obtained by multiplying a scalar to a vector from the set, is also in the set. (Property known as 'Closed under multiplication').\n",
    "* Vector, obtained by adding any 2 vectors from the set, is also in the set."
   ]
  },
  {
   "cell_type": "markdown",
   "metadata": {},
   "source": [
    "> A span of any number of vectors is a valid subspace."
   ]
  },
  {
   "cell_type": "markdown",
   "metadata": {},
   "source": [
    "## Basis of a subspace"
   ]
  },
  {
   "cell_type": "markdown",
   "metadata": {},
   "source": [
    "Let a set of vectors be $A$. And `span(A)` be $B$ `(Note: B is also a subspace)`. \n",
    "\n",
    "$A$ is the `basis` of $B$ if and only if $A$ is linearly independant. In simple words, `basis` is a minimum set of vectors required to span a subspace."
   ]
  },
  {
   "cell_type": "markdown",
   "metadata": {},
   "source": [
    "> There can be multiple `basis` for a subspace"
   ]
  }
 ],
 "metadata": {
  "kernelspec": {
   "display_name": "Python 3",
   "language": "python",
   "name": "python3"
  },
  "language_info": {
   "codemirror_mode": {
    "name": "ipython",
    "version": 3
   },
   "file_extension": ".py",
   "mimetype": "text/x-python",
   "name": "python",
   "nbconvert_exporter": "python",
   "pygments_lexer": "ipython3",
   "version": "3.7.6"
  }
 },
 "nbformat": 4,
 "nbformat_minor": 4
}
