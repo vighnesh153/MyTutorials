{
 "cells": [
  {
   "cell_type": "markdown",
   "metadata": {},
   "source": [
    "# Defining a plane"
   ]
  },
  {
   "cell_type": "markdown",
   "metadata": {},
   "source": [
    "## From a point on the plane and a normal to the plane"
   ]
  },
  {
   "cell_type": "markdown",
   "metadata": {},
   "source": [
    "Let the point on the plane be $\\overrightarrow { A } =\\left[ \\begin{matrix} { x }_{ 0 } \\\\ { y }_{ 0 } \\\\ z_{ 0 } \\end{matrix} \\right] $ and the normal vector be $\\overrightarrow { N } =\\left[ \\begin{matrix} { n }_{ 1 } \\\\ { n }_{ 2 } \\\\ n_{ 3 } \\end{matrix} \\right] $.\n",
    "\n",
    "> Normal vector is the vector that is perpendicular to something. In this case, it is perpendicular to the plane, whose equation we are finding."
   ]
  },
  {
   "cell_type": "markdown",
   "metadata": {},
   "source": [
    "Let a general point on the plane be $\\overrightarrow { X } =\\left[ \\begin{matrix} { x } \\\\ { y } \\\\ z \\end{matrix} \\right] $"
   ]
  },
  {
   "cell_type": "markdown",
   "metadata": {},
   "source": [
    "We know that $\\overrightarrow { X } -\\overrightarrow { A } $ lies on the plane."
   ]
  },
  {
   "cell_type": "markdown",
   "metadata": {},
   "source": [
    "So, $\\left( \\overrightarrow { X } -\\overrightarrow { A }  \\right) \\bullet \\overrightarrow { N } =0$"
   ]
  },
  {
   "cell_type": "markdown",
   "metadata": {},
   "source": [
    "Upon simplifying: \n",
    "$$\\left[ \\begin{matrix} { n }_{ 1 } \\\\ { n }_{ 2 } \\\\ { n }_{ 3 } \\end{matrix} \\right] \\bullet \\left[ \\begin{matrix} \\left( x-{ x }_{ 0 } \\right)  \\\\ \\left( y-{ y }_{ 0 } \\right)  \\\\ \\left( z-z_{ 0 } \\right)  \\end{matrix} \\right] =0$$"
   ]
  },
  {
   "cell_type": "markdown",
   "metadata": {},
   "source": [
    "becomes: \n",
    "$${ n }_{ 1 }\\left( x-{ x }_{ 0 } \\right) +{ n }_{ 2 }\\left( y-{ y }_{ 0 } \\right) +{ n }_{ 3 }\\left( z-z_{ 0 } \\right) =0$$"
   ]
  },
  {
   "cell_type": "markdown",
   "metadata": {},
   "source": [
    "Now, ${ n }_{ 1 },{ n }_{ 2 },{ n }_{ 3 },{ x }_{ 0 },{ y }_{ 0 },z_{ 0 }$ are constants that are already provided in the question. So, on simplifying the above equation, we get an equation as $Ax+By+Cz=D$ which is the equation of the plane that we needed."
   ]
  }
 ],
 "metadata": {
  "kernelspec": {
   "display_name": "Python 3",
   "language": "python",
   "name": "python3"
  },
  "language_info": {
   "codemirror_mode": {
    "name": "ipython",
    "version": 3
   },
   "file_extension": ".py",
   "mimetype": "text/x-python",
   "name": "python",
   "nbconvert_exporter": "python",
   "pygments_lexer": "ipython3",
   "version": "3.7.6"
  }
 },
 "nbformat": 4,
 "nbformat_minor": 4
}
