{
 "cells": [
  {
   "cell_type": "markdown",
   "metadata": {},
   "source": [
    "# Parametric Representation of lines"
   ]
  },
  {
   "cell_type": "markdown",
   "metadata": {},
   "source": [
    "## Set of collinear lines "
   ]
  },
  {
   "cell_type": "markdown",
   "metadata": {},
   "source": [
    "If $\\overrightarrow { v } =\\left[ \\begin{matrix} x \\\\ y \\end{matrix} \\right] $, then the set of lines that are collinear to it are $S=\\left\\{\\: c\\overrightarrow { v }\\: |\\:c\\in \\Re \\: \\right\\} $"
   ]
  },
  {
   "cell_type": "markdown",
   "metadata": {},
   "source": [
    "> Note: The above set only contains collinear lines, that pass throught $\\overrightarrow { v }$"
   ]
  },
  {
   "cell_type": "markdown",
   "metadata": {},
   "source": [
    "### So what about lines that are collinear to $\\overrightarrow { v }$ but not pass through it. That is, what about parallel lines to $c\\overrightarrow { v }$?"
   ]
  },
  {
   "cell_type": "markdown",
   "metadata": {},
   "source": [
    "Let us define a point $\\overrightarrow { x } $ on any of the parallel lines to $c\\overrightarrow { v } $. If we add $\\overrightarrow { x } $ to $c\\overrightarrow { v } $, then we have essentially translated $c\\overrightarrow { v } $ to $\\overrightarrow { x } $ such that now, $\\overrightarrow { x } +c\\overrightarrow { v } $ now is the set of all the lines,\n",
    "that pass through $\\overrightarrow {x}$"
   ]
  },
  {
   "cell_type": "markdown",
   "metadata": {},
   "source": [
    "### If we generalize the above result, then the following equation is the equation of a line"
   ]
  },
  {
   "cell_type": "markdown",
   "metadata": {},
   "source": [
    "$$L=\\left\\{ \\: \\overrightarrow { X } +t\\overrightarrow { V } \\:|\\:t\\:\\in \\:\\Re \\: \\right\\} $$"
   ]
  },
  {
   "cell_type": "markdown",
   "metadata": {},
   "source": [
    "> The cool thing about the above equation is that it represents a line not just in 2-dimensions, but in N-dimensional space."
   ]
  },
  {
   "cell_type": "markdown",
   "metadata": {},
   "source": [
    "#### Equation of a line passing through heads of 2 vectors: $\\overrightarrow { a } $ and $\\overrightarrow { b } $"
   ]
  },
  {
   "cell_type": "markdown",
   "metadata": {},
   "source": [
    "Vector passing through $\\overrightarrow { a } $ and $\\overrightarrow { b } $ can be written as follows:"
   ]
  },
  {
   "cell_type": "markdown",
   "metadata": {},
   "source": [
    "![caption](https://scontent.fbom26-1.fna.fbcdn.net/v/t1.0-9/94504909_100148338355065_4185841780555513856_o.jpg?_nc_cat=106&_nc_sid=730e14&_nc_ohc=9tx-NB3Z5UEAX8v63dP&_nc_ht=scontent.fbom26-1.fna&oh=670fa9f3145d7f3a04cfb0766f54b0ee&oe=5ECA040A)"
   ]
  },
  {
   "cell_type": "markdown",
   "metadata": {},
   "source": [
    "Now, we can multiply a constant `t` to $\\overrightarrow { c } $ to make it represent all vectors, that lie on line, collinear to it. Also, $\\overrightarrow { c } $ starts from `(0, 0)`. So, we add either $\\overrightarrow { a } $ or $\\overrightarrow { b } $ to shift it."
   ]
  },
  {
   "cell_type": "markdown",
   "metadata": {},
   "source": [
    "### Generalizing the above, equation of line passing through 2 vectors can be given as follows:\n",
    "\n",
    "$$L=\\left\\{ \\: \\overrightarrow { { X }_{ 1 } } +t\\left( \\overrightarrow { { X }_{ 1 } } -\\overrightarrow { { X }_{ 2 } }  \\right) \\: |\\: t\\: \\in \\: \\Re \\:  \\right\\} $$"
   ]
  },
  {
   "cell_type": "markdown",
   "metadata": {},
   "source": [
    "where $\\overrightarrow { { X }_{ 1 } } $ and $\\overrightarrow { { X }_{ 2 } } $ are the $2$ vectors"
   ]
  }
 ],
 "metadata": {
  "kernelspec": {
   "display_name": "Python 3",
   "language": "python",
   "name": "python3"
  },
  "language_info": {
   "codemirror_mode": {
    "name": "ipython",
    "version": 3
   },
   "file_extension": ".py",
   "mimetype": "text/x-python",
   "name": "python",
   "nbconvert_exporter": "python",
   "pygments_lexer": "ipython3",
   "version": "3.7.6"
  }
 },
 "nbformat": 4,
 "nbformat_minor": 4
}
