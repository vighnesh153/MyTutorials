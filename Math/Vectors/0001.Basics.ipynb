{
 "cells": [
  {
   "cell_type": "markdown",
   "metadata": {},
   "source": [
    "# Vectors basics\n",
    "\n",
    "Vector => Magnitude + direction\n",
    "\n",
    "Length of the arrow specifies magnitude and is also known as the length of the vector.\n",
    "The angle specifies the direction.\n",
    "\n",
    "An example vector:\n",
    "$$\\overrightarrow { v } =\\left( 3,4 \\right) =\\left[ \\begin{matrix} 3 \\\\ 4 \\end{matrix} \\right] $$\n",
    "\n",
    "Vectors don't have to start from `(0, 0)`. A `(3, 4)` vector can start anywhere from `(x, y)` to `(x + 3, y + 4)`."
   ]
  },
  {
   "cell_type": "markdown",
   "metadata": {},
   "source": [
    "\n",
    "## Addition of vectors"
   ]
  },
  {
   "cell_type": "markdown",
   "metadata": {},
   "source": [
    "$$\\left[ \\begin{matrix} { x }_{ 1 } \\\\ { y }_{ 1 } \\end{matrix} \\right] +\\left[ \\begin{matrix} { x }_{ 2 } \\\\ { y }_{ 2 } \\end{matrix} \\right] =\\left[ \\begin{matrix} { x }_{ 1 }+{ x }_{ 2 } \\\\ { y }_{ 1 }+{ y }_{ 2 } \\end{matrix} \\right] $$"
   ]
  },
  {
   "cell_type": "markdown",
   "metadata": {},
   "source": [
    "\n",
    "## Multipliplying a scaler to the Vector"
   ]
  },
  {
   "cell_type": "markdown",
   "metadata": {},
   "source": [
    "$$c\\times \\left[ \\begin{matrix} { x } \\\\ { y } \\end{matrix} \\right] =\\left[ \\begin{matrix} { cx } \\\\ { cy } \\end{matrix} \\right] $$"
   ]
  },
  {
   "cell_type": "markdown",
   "metadata": {},
   "source": [
    "> Multiplying a vector with a negative scaler just rotates the vector by $180°$ with some scaling of the length. In simple words, it just reverses the direction of the vector"
   ]
  },
  {
   "cell_type": "markdown",
   "metadata": {},
   "source": [
    "\n",
    "## Unit Vectors"
   ]
  },
  {
   "cell_type": "markdown",
   "metadata": {},
   "source": [
    "Unit vector along the `x` direction is $\\hat { i } =\\left[ \\begin{matrix} 1 \\\\ 0 \\end{matrix} \\right] $"
   ]
  },
  {
   "cell_type": "markdown",
   "metadata": {},
   "source": [
    "Unit vector along the `y` direction is $\\hat { j } =\\left[ \\begin{matrix} 0 \\\\ 1 \\end{matrix} \\right] $"
   ]
  },
  {
   "cell_type": "markdown",
   "metadata": {},
   "source": [
    "So, we can write any vector $\\left[ \\begin{matrix} x \\\\ y \\end{matrix} \\right] $ as a combination of scaled versions of the above unit vectors as: $\\quad x\\hat { i } +y\\hat { j }$"
   ]
  }
 ],
 "metadata": {
  "kernelspec": {
   "display_name": "Python 3",
   "language": "python",
   "name": "python3"
  },
  "language_info": {
   "codemirror_mode": {
    "name": "ipython",
    "version": 3
   },
   "file_extension": ".py",
   "mimetype": "text/x-python",
   "name": "python",
   "nbconvert_exporter": "python",
   "pygments_lexer": "ipython3",
   "version": "3.7.6"
  }
 },
 "nbformat": 4,
 "nbformat_minor": 4
}
