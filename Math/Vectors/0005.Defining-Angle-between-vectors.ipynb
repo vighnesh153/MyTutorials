{
 "cells": [
  {
   "cell_type": "markdown",
   "metadata": {},
   "source": [
    "# Angle between vectors"
   ]
  },
  {
   "cell_type": "markdown",
   "metadata": {},
   "source": [
    "Angle between vectors is defined as $\\overrightarrow { A } \\bullet \\overrightarrow { B } =\\left\\| \\overrightarrow { A }  \\right\\| \\times \\left\\| \\overrightarrow { B }  \\right\\| \\times \\cos { \\theta  } $\n",
    "\n",
    "[Proof](https://youtu.be/5AWob_z74Ks)"
   ]
  },
  {
   "cell_type": "markdown",
   "metadata": {},
   "source": [
    "> If the dot product of the vectors is 0, then the vectors are orthogonal.\n",
    "\n",
    "> If both the vectors are non-zero, and their dot product is 0, then they are special kind of orthogonal known as perpendicular."
   ]
  }
 ],
 "metadata": {
  "kernelspec": {
   "display_name": "Python 3",
   "language": "python",
   "name": "python3"
  },
  "language_info": {
   "codemirror_mode": {
    "name": "ipython",
    "version": 3
   },
   "file_extension": ".py",
   "mimetype": "text/x-python",
   "name": "python",
   "nbconvert_exporter": "python",
   "pygments_lexer": "ipython3",
   "version": "3.7.6"
  }
 },
 "nbformat": 4,
 "nbformat_minor": 4
}
