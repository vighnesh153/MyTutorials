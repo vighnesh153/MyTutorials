{
 "cells": [
  {
   "cell_type": "markdown",
   "metadata": {},
   "source": [
    "# Dot product of vectors"
   ]
  },
  {
   "cell_type": "markdown",
   "metadata": {},
   "source": [
    "Dot product of $2$ vectors is defined as\n",
    "$$\\left[ \\begin{matrix} { a }_{ 1 } \\\\ { a }_{ 2 } \\\\ { a }_{ 3 } \\end{matrix} \\right] \\bullet \\left[ \\begin{matrix} { b }_{ 1 } \\\\ { b }_{ 2 } \\\\ { b }_{ 3 } \\end{matrix} \\right] ={ a }_{ 1 }{ b }_{ 1 }+{ a }_{ 2 }{ b }_{ 2 }+a_{ 3 }{ b }_{ 3 }$$"
   ]
  },
  {
   "cell_type": "markdown",
   "metadata": {},
   "source": [
    "Also, the length or magnitude of a vector is defined as"
   ]
  },
  {
   "cell_type": "markdown",
   "metadata": {},
   "source": [
    "$$\\left\\| \\left[ \\begin{matrix} { a }_{ 1 } \\\\ { a }_{ 2 } \\\\ { a }_{ 3 } \\end{matrix} \\right]  \\right\\| ={ { a }_{ 1 } }^{ 2 }+{ { a }_{ 2 } }^{ 2 }+{ { a }_{ 3 } }^{ 2 }$$"
   ]
  },
  {
   "cell_type": "markdown",
   "metadata": {},
   "source": [
    "### Relating length of a vector with its dot product\n",
    "\n",
    "Using the above 2 definitions, we can say that the length of the vector can be written as $\\sqrt { \\overrightarrow { a } \\bullet \\overrightarrow { a }  } $"
   ]
  },
  {
   "cell_type": "markdown",
   "metadata": {},
   "source": []
  },
  {
   "cell_type": "markdown",
   "metadata": {},
   "source": [
    "## Properties of dot product"
   ]
  },
  {
   "cell_type": "markdown",
   "metadata": {},
   "source": [
    "* Commutative: $\\overrightarrow { a } \\bullet \\overrightarrow { b } =\\overrightarrow { b } \\bullet \\overrightarrow { a } $"
   ]
  },
  {
   "cell_type": "markdown",
   "metadata": {},
   "source": [
    "* Distributive: $\\left( \\overrightarrow { a } +\\overrightarrow { b }  \\right) \\bullet \\overrightarrow { c } =\\overrightarrow { a } \\bullet \\overrightarrow { c } +\\overrightarrow { b } \\bullet \\overrightarrow { c } $"
   ]
  },
  {
   "cell_type": "markdown",
   "metadata": {},
   "source": [
    "* Associative: $\\left( c\\overrightarrow { A }  \\right) \\bullet \\overrightarrow { B } =c\\left( \\overrightarrow { A } \\bullet \\overrightarrow { B }  \\right) $"
   ]
  },
  {
   "cell_type": "markdown",
   "metadata": {},
   "source": [
    "## Cauchy-Schwarz inequality"
   ]
  },
  {
   "cell_type": "markdown",
   "metadata": {},
   "source": [
    "For 2 non-zero vectors, $\\left| \\overrightarrow { A } \\bullet \\overrightarrow { B }  \\right| \\le \\left\\| \\overrightarrow { A }  \\right\\| \\times \\left\\| \\overrightarrow { B }  \\right\\| $\n",
    "\n",
    "[Proof](https://youtu.be/r2PogGDl8_U)"
   ]
  },
  {
   "cell_type": "markdown",
   "metadata": {},
   "source": [
    "## Vector triangle inequality"
   ]
  },
  {
   "cell_type": "markdown",
   "metadata": {},
   "source": [
    "For any 2 vectors, $\\left\\| \\overrightarrow { A } +\\overrightarrow { B }  \\right\\| \\le \\left\\| \\overrightarrow { A }  \\right\\| +\\left\\| \\overrightarrow { B }  \\right\\| $\n",
    "\n",
    "[Proof](https://youtu.be/PsNidCBr5II)"
   ]
  }
 ],
 "metadata": {
  "kernelspec": {
   "display_name": "Python 3",
   "language": "python",
   "name": "python3"
  },
  "language_info": {
   "codemirror_mode": {
    "name": "ipython",
    "version": 3
   },
   "file_extension": ".py",
   "mimetype": "text/x-python",
   "name": "python",
   "nbconvert_exporter": "python",
   "pygments_lexer": "ipython3",
   "version": "3.7.6"
  }
 },
 "nbformat": 4,
 "nbformat_minor": 4
}
