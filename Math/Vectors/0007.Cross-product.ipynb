{
 "cells": [
  {
   "cell_type": "markdown",
   "metadata": {},
   "source": [
    "# Cross-product of vectors"
   ]
  },
  {
   "cell_type": "markdown",
   "metadata": {},
   "source": [
    "Cross-product of $2$ vectors is only defined in ${ \\Re  }^{ 3 }$"
   ]
  },
  {
   "cell_type": "markdown",
   "metadata": {},
   "source": [
    "For $2$ vectors $\\overrightarrow { A } =\\left[ \\begin{matrix} { a }_{ 1 } \\\\ { a }_{ 2 } \\\\ { a }_{ 3 } \\end{matrix} \\right] $ and $\\overrightarrow { B } =\\left[ \\begin{matrix} { b }_{ 1 } \\\\ { b }_{ 2 } \\\\ { b }_{ 3 } \\end{matrix} \\right] $, the cross product is defined as:"
   ]
  },
  {
   "cell_type": "markdown",
   "metadata": {},
   "source": [
    "$$\\overrightarrow { A } \\times \\overrightarrow { B } =\\left[ \\begin{matrix} a_{ 2 }{ b }_{ 3 }-a_{ 3 }{ b }_{ 2 } \\\\ { a }_{ 3 }{ b }_{ 1 }-a_{ 1 }{ b }_{ 3 } \\\\ { a }_{ 1 }{ b }_{ 2 }-{ a }_{ 2 }{ b }_{ 1 } \\end{matrix} \\right] $$"
   ]
  },
  {
   "cell_type": "markdown",
   "metadata": {},
   "source": [
    "> Vector obtained by the cross product of the 2 vectors is orthogonal to both of them."
   ]
  },
  {
   "cell_type": "markdown",
   "metadata": {},
   "source": [
    "> Use the right hand rule to determine the direction of resultant vector"
   ]
  },
  {
   "cell_type": "markdown",
   "metadata": {},
   "source": [
    "## Relationship between the cross product and the angle between 2 vectors"
   ]
  },
  {
   "cell_type": "markdown",
   "metadata": {},
   "source": [
    "$\\left\\| \\overrightarrow { A } \\times \\overrightarrow { B }  \\right\\| =\\left\\| \\overrightarrow { A }  \\right\\| \\times \\left\\| \\overrightarrow { B }  \\right\\| \\times \\sin { \\theta  } $\n",
    "\n",
    "[Proof](https://youtu.be/7MKA2QlKvHc)"
   ]
  }
 ],
 "metadata": {
  "kernelspec": {
   "display_name": "Python 3",
   "language": "python",
   "name": "python3"
  },
  "language_info": {
   "codemirror_mode": {
    "name": "ipython",
    "version": 3
   },
   "file_extension": ".py",
   "mimetype": "text/x-python",
   "name": "python",
   "nbconvert_exporter": "python",
   "pygments_lexer": "ipython3",
   "version": "3.7.6"
  }
 },
 "nbformat": 4,
 "nbformat_minor": 4
}
